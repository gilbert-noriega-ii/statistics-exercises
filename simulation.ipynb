{
 "cells": [
  {
   "cell_type": "code",
   "execution_count": 63,
   "metadata": {},
   "outputs": [],
   "source": [
    "import numpy as np\n",
    "import pandas as pd\n",
    "#import viz "
   ]
  },
  {
   "cell_type": "markdown",
   "metadata": {},
   "source": [
    "1) How likely is it that you roll doubles when rolling two dice?"
   ]
  },
  {
   "cell_type": "code",
   "execution_count": 112,
   "metadata": {},
   "outputs": [
    {
     "data": {
      "text/plain": [
       "0.16549"
      ]
     },
     "execution_count": 112,
     "metadata": {},
     "output_type": "execute_result"
    }
   ],
   "source": [
    "n_trials = nrows = 100_000\n",
    "n_dice = ncols = 2\n",
    "rolls = np.random.choice([1,2,3,4,5,6], n_trials * n_dice).reshape(nrows, ncols)\n",
    "dice_range = rolls.max(axis = 1)-rolls.min(axis = 1)\n",
    "doubles = dice_range == 0\n",
    "doubles_rate = doubles.astype(int).mean()\n",
    "doubles_rate\n",
    "\n",
    "#alt sol\n",
    "rolls = pd.DataFrame()\n",
    "rolls[\"die1\"]= np.random.choice([1,2,3,4,5,6],size=100_000)\n",
    "rolls[\"die2\"]= np.random.choice([1,2,3,4,5,6],size=100_000)\n",
    "rolls[\"is_pair\"]= rolls.die1 ==rolls.die2\n",
    "rolls.is_pair.mean()\n",
    "\n",
    "#alt sol\n",
    "a = np.random.choice([1,2,3,4,5,6],size=100_000)\n",
    "b = np.random.choice([1,2,3,4,5,6],size=100_000)\n",
    "(a==b).mean()"
   ]
  },
  {
   "cell_type": "markdown",
   "metadata": {},
   "source": [
    "2) If you flip 8 coins, \n",
    "- What is the probability of getting exactly 3 heads? "
   ]
  },
  {
   "cell_type": "code",
   "execution_count": 121,
   "metadata": {},
   "outputs": [
    {
     "data": {
      "text/plain": [
       "0.22133"
      ]
     },
     "execution_count": 121,
     "metadata": {},
     "output_type": "execute_result"
    }
   ],
   "source": [
    "n_trial = nrow = 10_000\n",
    "n_coins = ncols = 8\n",
    "# we will encode heads as 1, tails as 0\n",
    "flips = np.random.choice([1,0], n_trials * n_coins).reshape(nrows, ncols)\n",
    "number_of_heads = flips.sum(axis = 1)\n",
    "(number_of_heads == 3).mean()"
   ]
  },
  {
   "cell_type": "markdown",
   "metadata": {},
   "source": [
    "- What is the probability of getting more than 3 heads?"
   ]
  },
  {
   "cell_type": "code",
   "execution_count": 122,
   "metadata": {},
   "outputs": [
    {
     "data": {
      "text/plain": [
       "0.63543"
      ]
     },
     "execution_count": 122,
     "metadata": {},
     "output_type": "execute_result"
    }
   ],
   "source": [
    "(number_of_heads > 3).mean()"
   ]
  },
  {
   "cell_type": "markdown",
   "metadata": {},
   "source": [
    "3) There are approximitely 3 web development cohorts for every 1 data science cohort at Codeup. Assuming that Codeup randomly selects an alumni to put on a billboard,\n",
    "- What are the odds that the two billboards I drive past both have data science students on them?"
   ]
  },
  {
   "cell_type": "code",
   "execution_count": 120,
   "metadata": {},
   "outputs": [
    {
     "data": {
      "text/plain": [
       "0.06283"
      ]
     },
     "execution_count": 120,
     "metadata": {},
     "output_type": "execute_result"
    }
   ],
   "source": [
    "probabilities = [.75, .25]\n",
    "billboards = np.random.choice([\"Web\", \"Data\"], size=100_000, p=probabilities)\n",
    "bill_prob = (billboards == \"Data\").mean()**2\n",
    "bill_prob\n",
    "\n",
    "\n",
    "#alt sol\n",
    "outcomes = np.random.choice([\"Web\", \"Data\"], size=(100_000,2), p=[.75,.25])\n",
    "df = pd.DataFrame(outcomes)\n",
    "df.columns = [\"first_board\", \"second_board\"]\n",
    "df[\"both_data\"] = (df.first_board == \"Data\") & (df.second_board == \"Data\")\n",
    "df[\"both_data\"].mean()"
   ]
  },
  {
   "cell_type": "markdown",
   "metadata": {},
   "source": [
    "4) Codeup students buy, on average, 3 poptart packages (+- 1.5) a day from the snack vending machine. If on monday the machine is restocked with 17 poptart packages, \n",
    "- How likely is it that I will be able to buy some poptarts on Friday afternoon?"
   ]
  },
  {
   "cell_type": "code",
   "execution_count": 82,
   "metadata": {},
   "outputs": [
    {
     "data": {
      "text/plain": [
       "0.67101"
      ]
     },
     "execution_count": 82,
     "metadata": {},
     "output_type": "execute_result"
    }
   ],
   "source": [
    "poptarts = np.round(np.random.normal(3, 1.5, size=(100_000, 5)))\n",
    "weeks_total = poptarts.sum(axis = 1)\n",
    "(weeks_total < 17).mean()"
   ]
  },
  {
   "cell_type": "markdown",
   "metadata": {},
   "source": [
    "5) Compare Heights\n",
    "\n",
    "- Men have an average height of 178 cm and standard deviation of 8cm.\n",
    "\n",
    "- Women have a mean of 170, sd = 6cm.\n",
    "\n",
    "- If a man and woman are chosen at random, P(woman taller than man)?"
   ]
  },
  {
   "cell_type": "code",
   "execution_count": 126,
   "metadata": {},
   "outputs": [
    {
     "data": {
      "text/plain": [
       "0.19934"
      ]
     },
     "execution_count": 126,
     "metadata": {},
     "output_type": "execute_result"
    }
   ],
   "source": [
    "men = np.round(np.random.normal(178, 8, 100_000))\n",
    "women = np.round(np.random.normal(170, 6, 100_000))\n",
    "(women > men).mean()"
   ]
  },
  {
   "cell_type": "markdown",
   "metadata": {},
   "source": [
    "6)When installing anaconda on a student's computer, there's a 1 in 250 chance that the download is corrupted and the installation fails.\n",
    "- What are the odds that after having 50 students download anaconda, no one has an installation issue?"
   ]
  },
  {
   "cell_type": "code",
   "execution_count": 135,
   "metadata": {},
   "outputs": [
    {
     "data": {
      "text/plain": [
       "0.81853"
      ]
     },
     "execution_count": 135,
     "metadata": {},
     "output_type": "execute_result"
    }
   ],
   "source": [
    "n_trials = nrows = 100_000\n",
    "n_students = ncols = 50\n",
    "probabilities = [1/250, 249/250]\n",
    "#we will encode 0 as fail and 1 as success\n",
    "installs = np.random.choice([0,1], n_trials * n_students, p = probabilities).reshape(nrows, ncols)\n",
    "total_of_installs = installs.sum(axis=1)\n",
    "(total_of_installs == 50).mean()\n",
    "\n",
    "\n",
    "#alt sol\n",
    "trials = 100_000\n",
    "students_per_trial = 50\n",
    "installs = np.random.choice([0,1], size = (trials,students_per_trial), p = [1/250, 249/250])\n",
    "df = pd.DataFrame(installs)\n",
    "df[\"all_good\"]= df.sum(axis=1) == students_per_trial\n",
    "df.all_good.mean()"
   ]
  },
  {
   "cell_type": "markdown",
   "metadata": {},
   "source": [
    "- 100 students?"
   ]
  },
  {
   "cell_type": "code",
   "execution_count": 143,
   "metadata": {},
   "outputs": [
    {
     "data": {
      "text/plain": [
       "0.6689"
      ]
     },
     "execution_count": 143,
     "metadata": {},
     "output_type": "execute_result"
    }
   ],
   "source": [
    "n_trials = nrows = 100_000\n",
    "n_students = ncols = 100\n",
    "probabilities = [1/250, 249/250]\n",
    "installs = np.random.choice([0,1], n_trials * n_students, p = probabilities).reshape(nrows, ncols)\n",
    "total_of_installs = installs.sum(axis=1)\n",
    "(total_of_installs == 100).mean()\n",
    "\n",
    "\n",
    "#alt sol\n",
    "trials = 100_000\n",
    "students_per_trial = 100\n",
    "installs = np.random.choice([0,1], size = (trials,students_per_trial), p = [1/250, 249/250])\n",
    "df = pd.DataFrame(installs)\n",
    "df[\"all_good\"]= df.sum(axis=1) == students_per_trial\n",
    "df.all_good.mean()"
   ]
  },
  {
   "cell_type": "markdown",
   "metadata": {},
   "source": [
    "- What is the probability that we observe an installation issue within the first 150 students that download anaconda?"
   ]
  },
  {
   "cell_type": "code",
   "execution_count": 145,
   "metadata": {},
   "outputs": [
    {
     "data": {
      "text/plain": [
       "0.45305"
      ]
     },
     "execution_count": 145,
     "metadata": {},
     "output_type": "execute_result"
    }
   ],
   "source": [
    "n_trials = nrows = 100_000\n",
    "n_students = ncols = 150\n",
    "probabilities = [1/250, 249/250]\n",
    "installs = np.random.choice([0,1], n_trials * n_students, p = probabilities).reshape(nrows, ncols)\n",
    "total_of_installs = installs.sum(axis=1)\n",
    "(total_of_installs < 150).mean()\n",
    "\n",
    "\n",
    "#alt sol\n",
    "trials = 100_000\n",
    "students_per_trial = 150\n",
    "installs = np.random.choice([0,1], size = (trials,students_per_trial), p = [1/250, 249/250])\n",
    "df = pd.DataFrame(installs)\n",
    "df[\"failures\"]= df.sum(axis=1) < students_per_trial\n",
    "df.failures.mean()"
   ]
  },
  {
   "cell_type": "markdown",
   "metadata": {},
   "source": [
    "- How likely is it that 450 students all download anaconda without an issue?"
   ]
  },
  {
   "cell_type": "code",
   "execution_count": 147,
   "metadata": {},
   "outputs": [
    {
     "data": {
      "text/plain": [
       "0.16507"
      ]
     },
     "execution_count": 147,
     "metadata": {},
     "output_type": "execute_result"
    }
   ],
   "source": [
    "n_trials = nrows = 100_000\n",
    "n_students = ncols = 450\n",
    "probabilities = [1/250, 249/250]\n",
    "installs = np.random.choice([0,1], n_trials * n_students, p = probabilities).reshape(nrows, ncols)\n",
    "total_of_installs = installs.sum(axis=1)\n",
    "(total_of_installs == 450).mean()\n",
    "\n",
    "\n",
    "#alt sol\n",
    "trials = 100_000\n",
    "students_per_trial = 450\n",
    "installs = np.random.choice([0,1], size = (trials,students_per_trial), p = [1/250, 249/250])\n",
    "df = pd.DataFrame(installs)\n",
    "df[\"all_good\"]= df.sum(axis=1) == students_per_trial\n",
    "df.all_good.mean()"
   ]
  },
  {
   "cell_type": "markdown",
   "metadata": {},
   "source": [
    "7) There's a 70% chance on any given day that there will be at least one food truck at Travis Park. However, you haven't seen a food truck there in 3 days. \n",
    "- How unlikely is this?"
   ]
  },
  {
   "cell_type": "code",
   "execution_count": 156,
   "metadata": {},
   "outputs": [
    {
     "data": {
      "text/plain": [
       "0.02773"
      ]
     },
     "execution_count": 156,
     "metadata": {},
     "output_type": "execute_result"
    }
   ],
   "source": [
    "probabilities = [.70, .30]\n",
    "food_truck = np.random.choice([\"yes\", \"no\"], size=100_000, p=probabilities)\n",
    "truck_prob = (food_truck == \"no\").mean()**3\n",
    "truck_prob\n",
    "\n",
    "\n",
    "#alt sol\n",
    "# 1 is truck, 0 is no truck\n",
    "trucks = np.random.choice([1,0], size= (100_000,3),p=[.7,.3])\n",
    "df=pd.DataFrame(trucks)\n",
    "df.columns = [\"day1\",\"day2\",\"day3\"]\n",
    "df[\"shows\"] = df.sum(axis=1)\n",
    "(df.shows == 0).mean()"
   ]
  },
  {
   "cell_type": "markdown",
   "metadata": {},
   "source": [
    "- How likely is it that a food truck will show up sometime this week?"
   ]
  },
  {
   "cell_type": "code",
   "execution_count": 155,
   "metadata": {},
   "outputs": [
    {
     "data": {
      "text/plain": [
       "0.9998"
      ]
     },
     "execution_count": 155,
     "metadata": {},
     "output_type": "execute_result"
    }
   ],
   "source": [
    "trucks = np.random.choice([1,0], size= (100_000,7),p=[.7,.3])\n",
    "df=pd.DataFrame(trucks)\n",
    "df[\"shows\"]=df.sum(axis=1)\n",
    "(df.shows > 0).mean()"
   ]
  },
  {
   "cell_type": "markdown",
   "metadata": {},
   "source": [
    "8) If 23 people are in the same room, \n",
    "- What are the odds that two of them share a birthday?"
   ]
  },
  {
   "cell_type": "code",
   "execution_count": 162,
   "metadata": {},
   "outputs": [
    {
     "data": {
      "text/plain": [
       "0.50715"
      ]
     },
     "execution_count": 162,
     "metadata": {},
     "output_type": "execute_result"
    }
   ],
   "source": [
    "n_trials = 100_000\n",
    "n_people = 23\n",
    "bday= np.random.choice(range(365), size =(n_trials, n_people))\n",
    "df = pd.DataFrame(bday)\n",
    "df[\"n_unique\"]= df.nunique(axis=1)\n",
    "(df.n_unique != 23).mean()\n",
    "#or\n",
    "1-(df.n_unique == 23).mean()"
   ]
  },
  {
   "cell_type": "markdown",
   "metadata": {},
   "source": [
    "- What if it's 20 people? "
   ]
  },
  {
   "cell_type": "code",
   "execution_count": 163,
   "metadata": {},
   "outputs": [
    {
     "data": {
      "text/plain": [
       "0.41031"
      ]
     },
     "execution_count": 163,
     "metadata": {},
     "output_type": "execute_result"
    }
   ],
   "source": [
    "n_trials = 100_000\n",
    "n_people = 20\n",
    "bday= np.random.choice(range(365), size =(n_trials, n_people))\n",
    "df = pd.DataFrame(bday)\n",
    "df[\"n_unique\"]= df.nunique(axis=1)\n",
    "(df.n_unique != n_people).mean()"
   ]
  },
  {
   "cell_type": "markdown",
   "metadata": {},
   "source": [
    "- 40?"
   ]
  },
  {
   "cell_type": "code",
   "execution_count": 164,
   "metadata": {},
   "outputs": [
    {
     "data": {
      "text/plain": [
       "0.89325"
      ]
     },
     "execution_count": 164,
     "metadata": {},
     "output_type": "execute_result"
    }
   ],
   "source": [
    "n_trials = 100_000\n",
    "n_people = 40\n",
    "bday= np.random.choice(range(365), size =(n_trials, n_people))\n",
    "df = pd.DataFrame(bday)\n",
    "df[\"n_unique\"]= df.nunique(axis=1)\n",
    "(df.n_unique != n_people).mean()"
   ]
  }
 ],
 "metadata": {
  "kernelspec": {
   "display_name": "Python 3",
   "language": "python",
   "name": "python3"
  },
  "language_info": {
   "codemirror_mode": {
    "name": "ipython",
    "version": 3
   },
   "file_extension": ".py",
   "mimetype": "text/x-python",
   "name": "python",
   "nbconvert_exporter": "python",
   "pygments_lexer": "ipython3",
   "version": "3.7.6"
  }
 },
 "nbformat": 4,
 "nbformat_minor": 4
}
